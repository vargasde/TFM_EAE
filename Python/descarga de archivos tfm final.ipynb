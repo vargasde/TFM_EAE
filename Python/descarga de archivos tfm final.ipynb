{
 "cells": [
  {
   "cell_type": "code",
   "execution_count": 25,
   "metadata": {},
   "outputs": [],
   "source": [
    "import urllib.request\n",
    "import os\n",
    "from time import time\n",
    "from multiprocessing.pool import ThreadPool"
   ]
  },
  {
   "cell_type": "code",
   "execution_count": 5,
   "metadata": {},
   "outputs": [],
   "source": [
    "url = \"https://datos.madrid.es/egob/catalogo/210104-234-multas-circulacion-detalle.csv\""
   ]
  },
  {
   "cell_type": "code",
   "execution_count": 9,
   "metadata": {},
   "outputs": [],
   "source": [
    "response = urllib.request.urlopen(url)"
   ]
  },
  {
   "cell_type": "code",
   "execution_count": 10,
   "metadata": {},
   "outputs": [],
   "source": [
    "data = response.read()"
   ]
  },
  {
   "cell_type": "code",
   "execution_count": 21,
   "metadata": {},
   "outputs": [],
   "source": [
    "with open(\"C:/multas_tfm/multas_marzo.csv\", \"wb\") as archivo:\n",
    "    archivo.write(data)"
   ]
  },
  {
   "cell_type": "code",
   "execution_count": 28,
   "metadata": {},
   "outputs": [],
   "source": [
    "urls = [\n",
    "    (\"C:/multas_tfm/multas_diciembre_2018.csv\", \"https://datos.madrid.es/egob/catalogo/210104-224-multas-circulacion-detalle.csv\"),\n",
    "    (\"C:/multas_tfm/multas_noviembre_2018.csv\", \"https://datos.madrid.es/egob/catalogo/210104-222-multas-circulacion-detalle.csv\"),\n",
    "    (\"C:/multas_tfm/multas_octubre_2018.csv\", \"https://datos.madrid.es/egob/catalogo/210104-218-multas-circulacion-detalle.csv\"),\n",
    "    (\"C:/multas_tfm/multas_septiembre_2018.csv\", \"https://datos.madrid.es/egob/catalogo/210104-214-multas-circulacion-detalle.csv\"),\n",
    "    (\"C:/multas_tfm/multas_agosto_2018.csv\", \"https://datos.madrid.es/egob/catalogo/210104-210-multas-circulacion-detalle.csv\"),\n",
    "    (\"C:/multas_tfm/multas_julio_2018.csv\", \"https://datos.madrid.es/egob/catalogo/210104-206-multas-circulacion-detalle.csv\"),\n",
    "    (\"C:/multas_tfm/multas_junio_2018.csv\", \"https://datos.madrid.es/egob/catalogo/210104-202-multas-circulacion-detalle.csv\"),\n",
    "    (\"C:/multas_tfm/multas_mayo_2018.csv\", \"https://datos.madrid.es/egob/catalogo/210104-198-multas-circulacion-detalle.csv\"),\n",
    "    (\"C:/multas_tfm/multas_abril_2018.csv\", \"https://datos.madrid.es/egob/catalogo/210104-194-multas-circulacion-detalle.csv\"),\n",
    "    (\"C:/multas_tfm/multas_marzo_2018.csv\", \"https://datos.madrid.es/egob/catalogo/210104-190-multas-circulacion-detalle.csv\"),\n",
    "    (\"C:/multas_tfm/multas_febrero_2018.csv\", \"https://datos.madrid.es/egob/catalogo/210104-186-multas-circulacion-detalle.csv\"),\n",
    "    (\"C:/multas_tfm/multas_enero_2018.csv\", \"https://datos.madrid.es/egob/catalogo/210104-182-multas-circulacion-detalle.csv\"),\n",
    "    \n",
    "    (\"C:/multas_tfm/multas_diciembre_2017.csv\", \"https://datos.madrid.es/egob/catalogo/210104-180-multas-circulacion-detalle.csv\"),\n",
    "    (\"C:/multas_tfm/multas_noviembre_2017.csv\", \"https://datos.madrid.es/egob/catalogo/210104-178-multas-circulacion-detalle.csv\"),\n",
    "    (\"C:/multas_tfm/multas_octubre_2017.csv\", \"https://datos.madrid.es/egob/catalogo/210104-174-multas-circulacion-detalle.csv\"),\n",
    "    (\"C:/multas_tfm/multas_septiembre_2017.csv\", \"https://datos.madrid.es/egob/catalogo/210104-170-multas-circulacion-detalle.csv\"),\n",
    "    (\"C:/multas_tfm/multas_agosto_2017.csv\", \"https://datos.madrid.es/egob/catalogo/210104-166-multas-circulacion-detalle.csv\"),\n",
    "    (\"C:/multas_tfm/multas_julio_2017.csv\", \"https://datos.madrid.es/egob/catalogo/210104-162-multas-circulacion-detalle.csv\"),\n",
    "    (\"C:/multas_tfm/multas_junio_2017.csv\", \"https://datos.madrid.es/egob/catalogo/210104-158-multas-circulacion-detalle.csv\"),\n",
    "    (\"C:/multas_tfm/multas_mayo_2017.csv\", \"https://datos.madrid.es/egob/catalogo/210104-154-multas-circulacion-detalle.csv\"),\n",
    "    (\"C:/multas_tfm/multas_abril_2017.csv\", \"https://datos.madrid.es/egob/catalogo/210104-150-multas-circulacion-detalle.csv\"),\n",
    "    (\"C:/multas_tfm/multas_marzo_2017.csv\", \"https://datos.madrid.es/egob/catalogo/210104-146-multas-circulacion-detalle.csv\"),\n",
    "    (\"C:/multas_tfm/multas_febrero_2017.csv\", \"https://datos.madrid.es/egob/catalogo/210104-142-multas-circulacion-detalle.csv\"),\n",
    "    (\"C:/multas_tfm/multas_enero_2017.csv\", \"https://datos.madrid.es/egob/catalogo/210104-139-multas-circulacion-detalle.csv\"),\n",
    "    \n",
    "    (\"C:/multas_tfm/multas_diciembre_2016.csv\", \"https://datos.madrid.es/egob/catalogo/210104-122-multas-circulacion-detalle.csv\"),\n",
    "    (\"C:/multas_tfm/multas_noviembre_2016.csv\", \"https://datos.madrid.es/egob/catalogo/210104-120-multas-circulacion-detalle.csv\"),\n",
    "    (\"C:/multas_tfm/multas_octubre_2016.csv\", \"https://datos.madrid.es/egob/catalogo/210104-118-multas-circulacion-detalle.csv\"),\n",
    "    (\"C:/multas_tfm/multas_septiembre_2016.csv\", \"https://datos.madrid.es/egob/catalogo/210104-114-multas-circulacion-detalle.csv\"),\n",
    "    (\"C:/multas_tfm/multas_agosto_2016.csv\", \"https://datos.madrid.es/egob/catalogo/210104-110-multas-circulacion-detalle.csv\"),\n",
    "    (\"C:/multas_tfm/multas_julio_2016.csv\", \"https://datos.madrid.es/egob/catalogo/210104-106-multas-circulacion-detalle.csv\"),\n",
    "    (\"C:/multas_tfm/multas_junio_2016.csv\", \"https://datos.madrid.es/egob/catalogo/210104-102-multas-circulacion-detalle.csv\"),\n",
    "    (\"C:/multas_tfm/multas_mayo_2016.csv\", \"https://datos.madrid.es/egob/catalogo/210104-98-multas-circulacion-detalle.csv\"),\n",
    "    (\"C:/multas_tfm/multas_abril_2016.csv\", \"https://datos.madrid.es/egob/catalogo/210104-134-multas-circulacion-detalle.csv\"),\n",
    "    (\"C:/multas_tfm/multas_marzo_2016.csv\", \"https://datos.madrid.es/egob/catalogo/210104-130-multas-circulacion-detalle.csv\"),\n",
    "    (\"C:/multas_tfm/multas_febrero_2016.csv\", \"https://datos.madrid.es/egob/catalogo/210104-86-multas-circulacion-detalle.csv\"),\n",
    "    (\"C:/multas_tfm/multas_enero_2016.csv\", \"https://datos.madrid.es/egob/catalogo/210104-82-multas-circulacion-detalle.csv\"),\n",
    "    \n",
    "    (\"C:/multas_tfm/multas_diciembre_2015.csv\", \"https://datos.madrid.es/egob/catalogo/210104-74-multas-circulacion-detalle.csv\"),\n",
    "    (\"C:/multas_tfm/multas_noviembre_2015.csv\", \"https://datos.madrid.es/egob/catalogo/210104-70-multas-circulacion-detalle.csv\"),\n",
    "    (\"C:/multas_tfm/multas_octubre_2015.csv\", \"https://datos.madrid.es/egob/catalogo/210104-66-multas-circulacion-detalle.csv\"),\n",
    "    (\"C:/multas_tfm/multas_septiembre_2015.csv\", \"https://datos.madrid.es/egob/catalogo/210104-62-multas-circulacion-detalle.csv\"),\n",
    "    (\"C:/multas_tfm/multas_agosto_2015.csv\", \"https://datos.madrid.es/egob/catalogo/210104-58-multas-circulacion-detalle.csv\"),\n",
    "    (\"C:/multas_tfm/multas_julio_2015.csv\", \"https://datos.madrid.es/egob/catalogo/210104-54-multas-circulacion-detalle.csv\"),\n",
    "    (\"C:/multas_tfm/multas_junio_2015.csv\", \"https://datos.madrid.es/egob/catalogo/210104-50-multas-circulacion-detalle.csv\"),\n",
    "    (\"C:/multas_tfm/multas_mayo_2015.csv\", \"https://datos.madrid.es/egob/catalogo/210104-46-multas-circulacion-detalle.csv\"),\n",
    "    (\"C:/multas_tfm/multas_abril_2015.csv\", \"https://datos.madrid.es/egob/catalogo/210104-42-multas-circulacion-detalle.csv\"),\n",
    "    (\"C:/multas_tfm/multas_marzo_2015.csv\", \"https://datos.madrid.es/egob/catalogo/210104-78-multas-circulacion-detalle.csv\"),\n",
    "    (\"C:/multas_tfm/multas_febrero_2015.csv\", \"https://datos.madrid.es/egob/catalogo/210104-34-multas-circulacion-detalle.csv\"),\n",
    "    (\"C:/multas_tfm/multas_enero_2015.csv\", \"https://datos.madrid.es/egob/catalogo/210104-30-multas-circulacion-detalle.csv\"),\n",
    "    \n",
    "    (\"C:/multas_tfm/multas_nov-dic_2014.csv\", \"https://datos.madrid.es/egob/catalogo/210104-26-multas-circulacion-detalle.csv\"),\n",
    "    (\"C:/multas_tfm/multas_sep-oct_2014.csv\", \"https://datos.madrid.es/egob/catalogo/210104-22-multas-circulacion-detalle.csv\")\n",
    "]"
   ]
  },
  {
   "cell_type": "code",
   "execution_count": 19,
   "metadata": {},
   "outputs": [],
   "source": [
    "def url_response(url):\n",
    " \n",
    "    path, url = url\n",
    " \n",
    "    r = urllib.request.urlopen(url)\n",
    " \n",
    "    with open(path, 'wb') as f:\n",
    " \n",
    "        for ch in r:\n",
    " \n",
    "            f.write(ch)"
   ]
  },
  {
   "cell_type": "code",
   "execution_count": 26,
   "metadata": {},
   "outputs": [
    {
     "name": "stdout",
     "output_type": "stream",
     "text": [
      "Time to download: 0.04491615295410156\n"
     ]
    }
   ],
   "source": [
    "start = time()\n",
    " \n",
    "ThreadPool(9).imap_unordered(url_response, urls)\n",
    " \n",
    "print(f\"Time to download: {time() - start}\")"
   ]
  }
 ],
 "metadata": {
  "kernelspec": {
   "display_name": "Python 3",
   "language": "python",
   "name": "python3"
  },
  "language_info": {
   "codemirror_mode": {
    "name": "ipython",
    "version": 3
   },
   "file_extension": ".py",
   "mimetype": "text/x-python",
   "name": "python",
   "nbconvert_exporter": "python",
   "pygments_lexer": "ipython3",
   "version": "3.6.4"
  }
 },
 "nbformat": 4,
 "nbformat_minor": 2
}
