{
 "cells": [
  {
   "cell_type": "code",
   "execution_count": 1,
   "metadata": {
    "collapsed": true
   },
   "outputs": [],
   "source": [
    "import pandas as pd\n",
    "import glob as glob\n",
    "import numpy as np\n",
    "import datetime as dt\n",
    "import re\n",
    "import seaborn as sns\n",
    "import matplotlib.pyplot as plt\n",
    "import folium"
   ]
  },
  {
   "cell_type": "code",
   "execution_count": 2,
   "metadata": {
    "collapsed": true
   },
   "outputs": [],
   "source": [
    "%matplotlib inline"
   ]
  },
  {
   "cell_type": "code",
   "execution_count": 3,
   "metadata": {
    "collapsed": false
   },
   "outputs": [],
   "source": [
    "multas = pd.read_csv('data/MultasMAD_Python.csv', sep=',', encoding=\"ISO-8859-1\")"
   ]
  },
  {
   "cell_type": "code",
   "execution_count": 4,
   "metadata": {
    "collapsed": false
   },
   "outputs": [
    {
     "data": {
      "text/plain": [
       "Index(['HECHO.BOL', 'CALIFICACION', 'LUGAR', 'MES', 'ANIO', 'HORA', 'IMP_BOL',\n",
       "       'DESCUENTO', 'PUNTOS', 'DENUNCIANTE', 'VEL_LIMITE', 'VEL_CIRCULA',\n",
       "       'COORDENADA_X', 'COORDENADA_Y', 'VEHICULO', 'CATEGORIA', 'lon', 'lat'],\n",
       "      dtype='object')"
      ]
     },
     "execution_count": 4,
     "metadata": {},
     "output_type": "execute_result"
    }
   ],
   "source": [
    "multas.columns"
   ]
  },
  {
   "cell_type": "code",
   "execution_count": 5,
   "metadata": {
    "collapsed": true
   },
   "outputs": [],
   "source": [
    "#Eliminacion de columnas COORDENADA_X Y COORDENADA_Y, axis 1 indica que son columnas\n",
    "multas = multas.drop(['COORDENADA_X', 'COORDENADA_Y'], axis=1)"
   ]
  },
  {
   "cell_type": "code",
   "execution_count": 6,
   "metadata": {
    "collapsed": false
   },
   "outputs": [
    {
     "data": {
      "text/html": [
       "<div>\n",
       "<style scoped>\n",
       "    .dataframe tbody tr th:only-of-type {\n",
       "        vertical-align: middle;\n",
       "    }\n",
       "\n",
       "    .dataframe tbody tr th {\n",
       "        vertical-align: top;\n",
       "    }\n",
       "\n",
       "    .dataframe thead th {\n",
       "        text-align: right;\n",
       "    }\n",
       "</style>\n",
       "<table border=\"1\" class=\"dataframe\">\n",
       "  <thead>\n",
       "    <tr style=\"text-align: right;\">\n",
       "      <th></th>\n",
       "      <th>HECHO.BOL</th>\n",
       "      <th>CALIFICACION</th>\n",
       "      <th>LUGAR</th>\n",
       "      <th>MES</th>\n",
       "      <th>ANIO</th>\n",
       "      <th>HORA</th>\n",
       "      <th>IMP_BOL</th>\n",
       "      <th>DESCUENTO</th>\n",
       "      <th>PUNTOS</th>\n",
       "      <th>DENUNCIANTE</th>\n",
       "      <th>VEL_LIMITE</th>\n",
       "      <th>VEL_CIRCULA</th>\n",
       "      <th>VEHICULO</th>\n",
       "      <th>CATEGORIA</th>\n",
       "      <th>lon</th>\n",
       "      <th>lat</th>\n",
       "    </tr>\n",
       "  </thead>\n",
       "  <tbody>\n",
       "    <tr>\n",
       "      <th>0</th>\n",
       "      <td>ESTACIONAR EN CARRIL RESERVADO PARA USO, PARAD...</td>\n",
       "      <td>GRAVE</td>\n",
       "      <td>ORENSE 13</td>\n",
       "      <td>12</td>\n",
       "      <td>2015</td>\n",
       "      <td>12.47</td>\n",
       "      <td>200</td>\n",
       "      <td>SI</td>\n",
       "      <td>0</td>\n",
       "      <td>POLICIA MUNICIPAL</td>\n",
       "      <td>NaN</td>\n",
       "      <td>NaN</td>\n",
       "      <td>ESTACIONAMIENTO NEGLIGENTE</td>\n",
       "      <td>AUTOMOTOR</td>\n",
       "      <td>NaN</td>\n",
       "      <td>NaN</td>\n",
       "    </tr>\n",
       "    <tr>\n",
       "      <th>1</th>\n",
       "      <td>NO RESPETAR LAS SEÑALES EN UNA VÍA DE CIRCULAC...</td>\n",
       "      <td>LEVE</td>\n",
       "      <td>PZ LAVAPIES 6</td>\n",
       "      <td>OCTUBRE</td>\n",
       "      <td>2014</td>\n",
       "      <td>14.03</td>\n",
       "      <td>90</td>\n",
       "      <td>SI</td>\n",
       "      <td>0</td>\n",
       "      <td>AGENTES DE MOVILIDAD</td>\n",
       "      <td>NaN</td>\n",
       "      <td>NaN</td>\n",
       "      <td>OMISION DE SENALIZACION VIAL O DE CONDUCCION</td>\n",
       "      <td>AUTOMOTOR</td>\n",
       "      <td>NaN</td>\n",
       "      <td>NaN</td>\n",
       "    </tr>\n",
       "    <tr>\n",
       "      <th>2</th>\n",
       "      <td>ESTACIONAR, SIN LA CORRESPONDIENTE AUTORIZACIÓ...</td>\n",
       "      <td>LEVE</td>\n",
       "      <td>CL SECO 7</td>\n",
       "      <td>4</td>\n",
       "      <td>2017</td>\n",
       "      <td>14.27</td>\n",
       "      <td>90</td>\n",
       "      <td>SI</td>\n",
       "      <td>0</td>\n",
       "      <td>SER</td>\n",
       "      <td>NaN</td>\n",
       "      <td>NaN</td>\n",
       "      <td>ESTACIONAMIENTO NEGLIGENTE</td>\n",
       "      <td>AUTOMOTOR</td>\n",
       "      <td>NaN</td>\n",
       "      <td>NaN</td>\n",
       "    </tr>\n",
       "    <tr>\n",
       "      <th>3</th>\n",
       "      <td>SOBREPASAR LA VELOCIDADMÁXIMA EN VÍAS LIMITADA...</td>\n",
       "      <td>GRAVE</td>\n",
       "      <td>KM 4,6 AV AMERICA</td>\n",
       "      <td>6</td>\n",
       "      <td>2016</td>\n",
       "      <td>4.49</td>\n",
       "      <td>100</td>\n",
       "      <td>SI</td>\n",
       "      <td>0</td>\n",
       "      <td>POLICIA MUNICIPAL</td>\n",
       "      <td>70.0</td>\n",
       "      <td>92.0</td>\n",
       "      <td>VELOCIDAD O ACELERACION INDEBIDA</td>\n",
       "      <td>AUTOMOTOR</td>\n",
       "      <td>NaN</td>\n",
       "      <td>NaN</td>\n",
       "    </tr>\n",
       "    <tr>\n",
       "      <th>4</th>\n",
       "      <td>ESTACIONAR, SIN EL DISTINTIVO QUE LO AUTORIZA,...</td>\n",
       "      <td>LEVE</td>\n",
       "      <td>EMBAJADORES 212</td>\n",
       "      <td>8</td>\n",
       "      <td>2016</td>\n",
       "      <td>9.29</td>\n",
       "      <td>90</td>\n",
       "      <td>SI</td>\n",
       "      <td>0</td>\n",
       "      <td>SER</td>\n",
       "      <td>NaN</td>\n",
       "      <td>NaN</td>\n",
       "      <td>ESTACIONAMIENTO NEGLIGENTE</td>\n",
       "      <td>AUTOMOTOR</td>\n",
       "      <td>NaN</td>\n",
       "      <td>NaN</td>\n",
       "    </tr>\n",
       "  </tbody>\n",
       "</table>\n",
       "</div>"
      ],
      "text/plain": [
       "                                           HECHO.BOL CALIFICACION  \\\n",
       "0  ESTACIONAR EN CARRIL RESERVADO PARA USO, PARAD...   GRAVE        \n",
       "1  NO RESPETAR LAS SEÑALES EN UNA VÍA DE CIRCULAC...         LEVE   \n",
       "2  ESTACIONAR, SIN LA CORRESPONDIENTE AUTORIZACIÓ...   LEVE         \n",
       "3  SOBREPASAR LA VELOCIDADMÁXIMA EN VÍAS LIMITADA...   GRAVE        \n",
       "4  ESTACIONAR, SIN EL DISTINTIVO QUE LO AUTORIZA,...   LEVE         \n",
       "\n",
       "                                      LUGAR      MES  ANIO   HORA  IMP_BOL  \\\n",
       "0  ORENSE 13                                      12  2015  12.47      200   \n",
       "1                             PZ LAVAPIES 6  OCTUBRE  2014  14.03       90   \n",
       "2  CL SECO 7                                       4  2017  14.27       90   \n",
       "3  KM 4,6 AV AMERICA                               6  2016   4.49      100   \n",
       "4  EMBAJADORES 212                                 8  2016   9.29       90   \n",
       "\n",
       "  DESCUENTO  PUNTOS           DENUNCIANTE  VEL_LIMITE  VEL_CIRCULA  \\\n",
       "0        SI       0  POLICIA MUNICIPAL            NaN          NaN   \n",
       "1        SI       0  AGENTES DE MOVILIDAD         NaN          NaN   \n",
       "2        SI       0  SER                          NaN          NaN   \n",
       "3        SI       0  POLICIA MUNICIPAL           70.0         92.0   \n",
       "4        SI       0  SER                          NaN          NaN   \n",
       "\n",
       "                                       VEHICULO  CATEGORIA  lon  lat  \n",
       "0                    ESTACIONAMIENTO NEGLIGENTE  AUTOMOTOR  NaN  NaN  \n",
       "1  OMISION DE SENALIZACION VIAL O DE CONDUCCION  AUTOMOTOR  NaN  NaN  \n",
       "2                    ESTACIONAMIENTO NEGLIGENTE  AUTOMOTOR  NaN  NaN  \n",
       "3              VELOCIDAD O ACELERACION INDEBIDA  AUTOMOTOR  NaN  NaN  \n",
       "4                    ESTACIONAMIENTO NEGLIGENTE  AUTOMOTOR  NaN  NaN  "
      ]
     },
     "execution_count": 6,
     "metadata": {},
     "output_type": "execute_result"
    }
   ],
   "source": [
    "multas.head()"
   ]
  },
  {
   "cell_type": "code",
   "execution_count": 7,
   "metadata": {
    "collapsed": false
   },
   "outputs": [],
   "source": [
    "#Formato a HORA\n",
    "multas.HORA = multas.HORA.astype(str)\n",
    "\n",
    "def formato_hora(hora):\n",
    "    hora = hora.replace('.',':')\n",
    "    \n",
    "    return str(hora)\n",
    "\n",
    "Hora = ['HORA']\n",
    "for col in Hora:\n",
    "    multas[col] = multas.apply(lambda fila: formato_hora(fila[col]), axis=1)\n"
   ]
  },
  {
   "cell_type": "code",
   "execution_count": 8,
   "metadata": {
    "collapsed": false
   },
   "outputs": [],
   "source": [
    "#Cambio el tipo de dato \n",
    "multas['ANIO'] = multas['ANIO'].values.astype(np.int64)\n",
    "multas['MES'] = multas['MES'].values.astype(np.str)\n",
    "multas['VEL_LIMITE'] = multas['VEL_LIMITE'].values.astype(np.str)\n",
    "multas['VEL_CIRCULA'] = multas['VEL_CIRCULA'].values.astype(np.str)"
   ]
  },
  {
   "cell_type": "code",
   "execution_count": 9,
   "metadata": {
    "collapsed": true
   },
   "outputs": [],
   "source": [
    "#cambio en a fecha\n",
    "multas['MES'] = multas['MES'].str.replace('ENERO','JAN')\n",
    "multas['MES'] = multas['MES'].str.replace('FEBRERO','FEB')\n",
    "multas['MES'] = multas['MES'].str.replace('MARZO','MAR')\n",
    "multas['MES'] = multas['MES'].str.replace('ABRIL','APR')\n",
    "multas['MES'] = multas['MES'].str.replace('MAYO','MAY')\n",
    "multas['MES'] = multas['MES'].str.replace('JUNIO','JUN')\n",
    "multas['MES'] = multas['MES'].str.replace('JULIO','JUL')\n",
    "multas['MES'] = multas['MES'].str.replace('AGOSTO','AUG')\n",
    "multas['MES'] = multas['MES'].str.replace('SEPTIEMBRE','SEP')\n",
    "multas['MES'] = multas['MES'].str.replace('OCTUBRE','OCT')\n",
    "multas['MES'] = multas['MES'].str.replace('NOVIEMBRE','NOV')\n",
    "multas['MES'] = multas['MES'].str.replace('DICIEMBRE','DEC')\n",
    "\n",
    "multas['MES'] = multas['MES'].str.replace('1','JAN')\n",
    "multas['MES'] = multas['MES'].str.replace('2','FEB')\n",
    "multas['MES'] = multas['MES'].str.replace('3','MAR')\n",
    "multas['MES'] = multas['MES'].str.replace('4','APR')\n",
    "multas['MES'] = multas['MES'].str.replace('5','MAY')\n",
    "multas['MES'] = multas['MES'].str.replace('6','JUN')\n",
    "multas['MES'] = multas['MES'].str.replace('7','JUL')\n",
    "multas['MES'] = multas['MES'].str.replace('8','AUG')\n",
    "multas['MES'] = multas['MES'].str.replace('9','SEP')\n",
    "multas['MES'] = multas['MES'].str.replace('10','OCT')\n",
    "multas['MES'] = multas['MES'].str.replace('11','NOV')\n",
    "multas['MES'] = multas['MES'].str.replace('12','DEC')"
   ]
  },
  {
   "cell_type": "code",
   "execution_count": 10,
   "metadata": {
    "collapsed": true
   },
   "outputs": [],
   "source": [
    "#limpieza de calificaciones\n",
    "multas['CALIFICACION'] = multas['CALIFICACION'].str.replace('LEVE      ','LEVE')\n",
    "multas['CALIFICACION'] = multas['CALIFICACION'].str.replace('GRAVE     ','GRAVE')\n",
    "multas['CALIFICACION'] = multas['CALIFICACION'].str.replace('MUY GRAVE ','MUY GRAVE')"
   ]
  },
  {
   "cell_type": "code",
   "execution_count": 11,
   "metadata": {
    "collapsed": false
   },
   "outputs": [],
   "source": [
    "# Limpieza de NaN\n",
    "multas['VEL_LIMITE'] = multas['VEL_LIMITE'].str.replace('NaN','')\n",
    "multas['VEL_CIRCULA'] = multas['VEL_CIRCULA'].str.replace('NaN','')"
   ]
  },
  {
   "cell_type": "code",
   "execution_count": 12,
   "metadata": {
    "collapsed": true
   },
   "outputs": [],
   "source": [
    "# Agregr nombre a los denuciantes\n",
    "multas['DENUNCIANTE'] = multas['DENUNCIANTE'].str.replace('SER                 ','SER')\n",
    "multas['DENUNCIANTE'] = multas['DENUNCIANTE'].str.replace('POLICIA MUNICIPAL   ','POLICIA MUNICIPAL')\n",
    "multas['DENUNCIANTE'] = multas['DENUNCIANTE'].str.replace('SACE                ','SACE')"
   ]
  },
  {
   "cell_type": "code",
   "execution_count": 13,
   "metadata": {
    "collapsed": true
   },
   "outputs": [],
   "source": [
    "multas['MES'] = multas['MES'].str.replace('JAN0','JAN')\n",
    "multas['MES'] = multas['MES'].str.replace('JANJAN','JAN')\n",
    "multas['MES'] = multas['MES'].str.replace('MAR.0','MAR')\n",
    "multas['MES'] = multas['MES'].str.replace('JANFEB','JAN')"
   ]
  },
  {
   "cell_type": "code",
   "execution_count": 14,
   "metadata": {
    "collapsed": false
   },
   "outputs": [],
   "source": [
    "# Combinacion de columnas MES/ANIO HORA\n",
    "multas['FECHA'] = multas.apply(lambda fila: str(fila.MES) + '' + str(fila.ANIO)+ ' ' + str(fila.HORA), axis=1)"
   ]
  },
  {
   "cell_type": "code",
   "execution_count": 15,
   "metadata": {
    "collapsed": false
   },
   "outputs": [],
   "source": [
    "#Cambio el formato de fecha\n",
    "multas['FECHA'] = multas['FECHA'].apply(lambda x: \n",
    "                                dt.datetime.strptime(x,'%b%Y %H:%M'))"
   ]
  },
  {
   "cell_type": "code",
   "execution_count": null,
   "metadata": {
    "collapsed": false
   },
   "outputs": [],
   "source": [
    "multas.head()"
   ]
  },
  {
   "cell_type": "code",
   "execution_count": 16,
   "metadata": {
    "collapsed": false
   },
   "outputs": [
    {
     "data": {
      "image/png": "[encoded data removed]",
      "text/plain": [
       "<Figure size 432x288 with 1 Axes>"
      ]
     },
     "metadata": {},
     "output_type": "display_data"
    }
   ],
   "source": [
    "out = sns.countplot(x='ANIO', hue='CALIFICACION', data=multas)"
   ]
  },
  {
   "cell_type": "code",
   "execution_count": 17,
   "metadata": {
    "collapsed": false
   },
   "outputs": [
    {
     "data": {
      "image/png": "[encoded data removed]",
      "text/plain": [
       "<Figure size 432x288 with 1 Axes>"
      ]
     },
     "metadata": {},
     "output_type": "display_data"
    }
   ],
   "source": [
    "out = sns.countplot(x='ANIO', hue='DENUNCIANTE', data=multas)"
   ]
  },
  {
   "cell_type": "code",
   "execution_count": 18,
   "metadata": {
    "collapsed": false
   },
   "outputs": [
    {
     "name": "stderr",
     "output_type": "stream",
     "text": [
      "C:\\ProgramData\\Anaconda3\\lib\\site-packages\\scipy\\stats\\stats.py:1633: FutureWarning: Using a non-tuple sequence for multidimensional indexing is deprecated; use `arr[tuple(seq)]` instead of `arr[seq]`. In the future this will be interpreted as an array index, `arr[np.array(seq)]`, which will result either in an error or a different result.\n",
      "  return np.add.reduce(sorted[indexer] * weights, axis=axis) / sumval\n"
     ]
    },
    {
     "data": {
      "image/png": "[encoded data removed]",
      "text/plain": [
       "<Figure size 432x288 with 1 Axes>"
      ]
     },
     "metadata": {},
     "output_type": "display_data"
    }
   ],
   "source": [
    "out = sns.violinplot(x='CALIFICACION', y='ANIO', data=multas)"
   ]
  },
  {
   "cell_type": "code",
   "execution_count": 27,
   "metadata": {
    "collapsed": false
   },
   "outputs": [
    {
     "data": {
      "image/png": "[encoded data removed]",
      "text/plain": [
       "<Figure size 432x288 with 1 Axes>"
      ]
     },
     "metadata": {},
     "output_type": "display_data"
    }
   ],
   "source": [
    "ax = sns.boxenplot(x=\"CATEGORIA\", y=\"IMP_BOL\", data=multas)"
   ]
  },
  {
   "cell_type": "code",
   "execution_count": null,
   "metadata": {
    "collapsed": false
   },
   "outputs": [],
   "source": [
    "# Creamos y añadimos marcadores en el mapa\n",
    "m = folium.Map(location=[20, 0], tiles=\"Mapbox Bright\", zoom_start=2)\n",
    "df = multas[(multas['lat'] > 0) & (multas['lon'] != 0)]\n",
    "for i in range(0,len(df)):\n",
    "    folium.Marker([df.iloc[i]['lat'], df.iloc[i]['lon']]).add_to(m)\n",
    "\n",
    "m.save('multas_folium.html')"
   ]
  }
 ],
 "metadata": {
  "kernelspec": {
   "display_name": "Python 3",
   "language": "python",
   "name": "python3"
  },
  "language_info": {
   "codemirror_mode": {
    "name": "ipython",
    "version": 3
   },
   "file_extension": ".py",
   "mimetype": "text/x-python",
   "name": "python",
   "nbconvert_exporter": "python",
   "pygments_lexer": "ipython3",
   "version": "3.6.7"
  }
 },
 "nbformat": 4,
 "nbformat_minor": 2
}
